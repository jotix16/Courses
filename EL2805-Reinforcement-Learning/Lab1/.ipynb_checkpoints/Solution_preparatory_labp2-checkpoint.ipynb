{
 "cells": [
  {
   "cell_type": "code",
   "execution_count": 1,
   "metadata": {},
   "outputs": [],
   "source": [
    "import numpy as np\n",
    "import mazep2 as mz\n",
    "import mazep22 as mz2\n",
    "import pandas as pd\n"
   ]
  },
  {
   "cell_type": "markdown",
   "metadata": {},
   "source": [
    "# Problem 2"
   ]
  },
  {
   "cell_type": "markdown",
   "metadata": {},
   "source": [
    "## MDP formulation"
   ]
  },
  {
   "cell_type": "code",
   "execution_count": 2,
   "metadata": {
    "scrolled": true
   },
   "outputs": [],
   "source": [
    "# Description of the maze as a numpy array\n",
    "maze = np.array([\n",
    "    [2, 0, 0, 0, 0, 2],\n",
    "    [0, 0, 0, 0, 0, 0],\n",
    "    [2, 0, 0, 0, 0, 2]])\n",
    "\n",
    "# with the convention \n",
    "# 0 = empty cell\n",
    "# 2 = Bank\n",
    "\n",
    "env = mz.Maze(maze)\n",
    "gamma   = 29.0/30.0\n",
    "epsilon = 0.0001\n",
    "Q, policy = mz.value_iteration(env, gamma, epsilon)\n"
   ]
  },
  {
   "cell_type": "code",
   "execution_count": 3,
   "metadata": {
    "scrolled": true
   },
   "outputs": [],
   "source": [
    "# Simulate the shortest path starting from position A\n",
    "method = 'ValIter';\n",
    "start  = (0,0,1,2);\n",
    "path = env.simulate(start, policy, method,100);\n",
    "# Show the shortest path\n",
    "#mz.animate_solution(maze, path)\n"
   ]
  },
  {
   "cell_type": "code",
   "execution_count": 4,
   "metadata": {},
   "outputs": [
    {
     "data": {
      "image/png": "[encoded data removed]",
      "text/plain": [
       "<Figure size 432x216 with 1 Axes>"
      ]
     },
     "metadata": {},
     "output_type": "display_data"
    }
   ],
   "source": [
    "maze = np.array([\n",
    "    [2, 5, 0, 0, 0, 2],\n",
    "    [0, 0, 0, 0, 3, 0],\n",
    "    [2, 0, 0, 0, 0, 2]])\n",
    "env.draw_maze(maze,(1,4),policy)"
   ]
  },
  {
   "cell_type": "markdown",
   "metadata": {},
   "source": [
    "### a) Optimal policy for different lambda,  $\\lambda = 0.2, 0.4, 0.6, 0.8"
   ]
  },
  {
   "cell_type": "code",
   "execution_count": 2,
   "metadata": {},
   "outputs": [],
   "source": [
    "# Description of the maze as a numpy array\n",
    "maze = np.array([\n",
    "    [2, 0, 0, 0, 0, 2],\n",
    "    [0, 0, 0, 0, 0, 0],\n",
    "    [2, 0, 0, 0, 0, 2]])\n",
    "\n",
    "# with the convention \n",
    "# 0 = empty cell\n",
    "# 2 = Bank\n",
    "\n",
    "env = mz2.Maze(maze)\n",
    "gamma   = 29.0/30.0\n",
    "epsilon = 0.00001\n",
    "Q, policy = mz2.value_iteration(env, gamma, epsilon)\n"
   ]
  },
  {
   "cell_type": "code",
   "execution_count": 3,
   "metadata": {},
   "outputs": [],
   "source": [
    "# Simulate the shortest path starting from position A\n",
    "method = 'ValIter';\n",
    "start  = (0,0,1,2);\n",
    "path = env.simulate(start, policy, method,100);\n",
    "# Show the shortest path\n",
    "#mz.animate_solution(maze, path)"
   ]
  },
  {
   "cell_type": "code",
   "execution_count": 4,
   "metadata": {},
   "outputs": [
    {
     "data": {
      "image/png": "[encoded data removed]",
      "text/plain": [
       "<Figure size 432x216 with 1 Axes>"
      ]
     },
     "metadata": {},
     "output_type": "display_data"
    }
   ],
   "source": [
    "env = mz2.Maze(maze)\n",
    "gamma   = 0.2\n",
    "epsilon = 0.00001\n",
    "V, policy = mz2.value_iteration(env, gamma, epsilon)\n",
    "\n",
    "maze = np.array([\n",
    "    [5, 0, 0, 0, 0, 2],\n",
    "    [0, 0, 0, 0, 0, 0],\n",
    "    [2, 0, 0, 0, 0, 2]])\n",
    "env.draw_maze(maze,(0,0),policy)\n"
   ]
  },
  {
   "cell_type": "code",
   "execution_count": 5,
   "metadata": {},
   "outputs": [
    {
     "data": {
      "image/png": "[encoded data removed]",
      "text/plain": [
       "<Figure size 432x216 with 1 Axes>"
      ]
     },
     "metadata": {},
     "output_type": "display_data"
    }
   ],
   "source": [
    "env = mz2.Maze(maze)\n",
    "gamma   = 0.4\n",
    "epsilon = 0.00001\n",
    "V, policy = mz2.value_iteration(env, gamma, epsilon)\n",
    "\n",
    "maze = np.array([\n",
    "    [5, 0, 0, 0, 0, 2],\n",
    "    [0, 0, 0, 0, 0, 0],\n",
    "    [2, 0, 0, 0, 0, 2]])\n",
    "env.draw_maze(maze,(0,0),policy)"
   ]
  },
  {
   "cell_type": "code",
   "execution_count": 6,
   "metadata": {},
   "outputs": [
    {
     "data": {
      "image/png": "[encoded data removed]",
      "text/plain": [
       "<Figure size 432x216 with 1 Axes>"
      ]
     },
     "metadata": {},
     "output_type": "display_data"
    }
   ],
   "source": [
    "env = mz2.Maze(maze)\n",
    "gamma   = 0.6\n",
    "epsilon = 0.00001\n",
    "V, policy = mz2.value_iteration(env, gamma, epsilon)\n",
    "\n",
    "maze = np.array([\n",
    "    [5, 0, 0, 0, 0, 2],\n",
    "    [0, 0, 0, 0, 0, 0],\n",
    "    [2, 0, 0, 0, 0, 2]])\n",
    "env.draw_maze(maze,(0,0),policy)"
   ]
  },
  {
   "cell_type": "code",
   "execution_count": 10,
   "metadata": {},
   "outputs": [
    {
     "data": {
      "text/plain": [
       "0.041168100000000006"
      ]
     },
     "execution_count": 10,
     "metadata": {},
     "output_type": "execute_result"
    },
    {
     "data": {
      "image/png": "[encoded data removed]",
      "text/plain": [
       "<Figure size 432x216 with 1 Axes>"
      ]
     },
     "metadata": {},
     "output_type": "display_data"
    }
   ],
   "source": [
    "env = mz2.Maze(maze)\n",
    "gamma   = 0.0041\n",
    "epsilon = 0.00001\n",
    "V, policy = mz2.value_iteration(env, gamma, epsilon)\n",
    "\n",
    "maze = np.array([\n",
    "    [5, 0, 0, 0, 0, 2],\n",
    "    [0, 0, 0, 0, 0, 0],\n",
    "    [2, 0, 0, 0, 0, 2]])\n",
    "env.draw_maze(maze,(0,0),policy)\n",
    "\n"
   ]
  },
  {
   "cell_type": "code",
   "execution_count": null,
   "metadata": {
    "scrolled": true
   },
   "outputs": [],
   "source": [
    "#b)\n",
    "maze = np.array([\n",
    "    [2, 0, 0, 0, 0, 2],\n",
    "    [0, 0, 3, 0, 0, 0],\n",
    "    [2, 0, 0, 0, 0, 2]])\n",
    "env = mz2.Maze(maze)\n",
    "\n",
    "epsilon = 0.00001\n",
    "import matplotlib.pyplot as plt\n",
    "plt.style.use('seaborn-darkgrid')\n",
    "\n",
    "plot_v1 = list()\n",
    "#plot_v2 = list()\n",
    "plot_gamma = list()\n",
    "for g in np.linspace(0.004, 0.95, num=100, endpoint=False):\n",
    "    V, policy0= mz2.value_iteration(env,g,epsilon)\n",
    "    plot_v1.append(V[env.map[(0,0,1,4)]])\n",
    "    plot_gamma.append(g)\n",
    "\n",
    "plt.plot(plot_gamma, plot_v1, label = '')\n",
    "plt.xlabel(r\"Discount factor, $\\lambda$\")\n",
    "plt.ylabel(\"Value Function\")\n",
    "plt.show()"
   ]
  },
  {
   "cell_type": "code",
   "execution_count": null,
   "metadata": {},
   "outputs": [],
   "source": []
  },
  {
   "cell_type": "code",
   "execution_count": null,
   "metadata": {},
   "outputs": [],
   "source": []
  }
 ],
 "metadata": {
  "@webio": {
   "lastCommId": null,
   "lastKernelId": null
  },
  "kernelspec": {
   "display_name": "Python 3",
   "language": "python",
   "name": "python3"
  },
  "language_info": {
   "codemirror_mode": {
    "name": "ipython",
    "version": 3
   },
   "file_extension": ".py",
   "mimetype": "text/x-python",
   "name": "python",
   "nbconvert_exporter": "python",
   "pygments_lexer": "ipython3",
   "version": "3.7.4"
  }
 },
 "nbformat": 4,
 "nbformat_minor": 2
}
