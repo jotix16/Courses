{
 "cells": [
  {
   "cell_type": "code",
   "execution_count": 1,
   "metadata": {},
   "outputs": [],
   "source": [
    "import time\n",
    "import tensorflow as tf\n",
    "import numpy as np\n",
    "import matplotlib.pyplot as plt\n",
    "\n",
    "import os\n",
    "import sys\n",
    "sys.path.insert(0, os.path.dirname('../'))\n",
    "\n",
    "from config import Config\n",
    "from data_utils import video_to_frames\n",
    "from data_utils import metadata_loader\n",
    "from data_utils import dataset_builder\n",
    "\n",
    "from models.C3D import C3D_model, Small_C3D, Bigger_C3D"
   ]
  },
  {
   "cell_type": "markdown",
   "metadata": {},
   "source": [
    "# Load Smth-Smth dataset"
   ]
  },
  {
   "cell_type": "code",
   "execution_count": null,
   "metadata": {},
   "outputs": [],
   "source": [
    "IMG_SIZE = 84 \n",
    "\n",
    "# Preprocess\n",
    "def preproces(image, label):\n",
    "    image.set_shape((None, config.img_width, config.img_height, 3))\n",
    "    image = tf.image.resize(image, (IMG_SIZE, IMG_SIZE))\n",
    "    label.set_shape([config.n_classes])\n",
    "    return image, label"
   ]
  },
  {
   "cell_type": "code",
   "execution_count": 7,
   "metadata": {},
   "outputs": [
    {
     "name": "stdout",
     "output_type": "stream",
     "text": [
      "(85, 84, 84, 3) 55\n",
      "(85, 84, 84, 3) 105\n",
      "(85, 84, 84, 3) 141\n",
      "(85, 84, 84, 3) 11\n",
      "(85, 84, 84, 3) 14\n"
     ]
    },
    {
     "data": {
      "text/plain": [
       "<MapDataset shapes: ((None, 84, 84, 3), (174,)), types: (tf.float32, tf.int32)>"
      ]
     },
     "execution_count": 7,
     "metadata": {},
     "output_type": "execute_result"
    }
   ],
   "source": [
    "# hyperparams\n",
    "config = Config(\n",
    "    root_path='../data/20bn-something-something-v2', \n",
    "    json_path='./data/20bn-something-something-v2-jason')\n",
    "\n",
    "# Decode videos\n",
    "#video_to_frames.decode_videos(config)\n",
    "\n",
    "# Get metadata\n",
    "ml = metadata_loader.MetadataLoader(config)\n",
    "metadata = ml.load_metadata()\n",
    "\n",
    "# Load dataset\n",
    "db = dataset_builder.DatasetBuilder(config)\n",
    "train_dataset = db2.make_video_dataset(metadata['train'])\n",
    "\n",
    "# Preprocess\n",
    "train_dataset = train_dataset.map(preproces)\n",
    "\n",
    "# Verify that the datasets work\n",
    "for x, y in train_dataset.batch(1).take(5):\n",
    "    print(x.shape[1:],np.argmax(y.numpy()))\n",
    "\n",
    "\n",
    "train_SMTH"
   ]
  },
  {
   "cell_type": "markdown",
   "metadata": {},
   "source": [
    "#  Load a small version of c3d"
   ]
  },
  {
   "cell_type": "code",
   "execution_count": 5,
   "metadata": {},
   "outputs": [
    {
     "name": "stdout",
     "output_type": "stream",
     "text": [
      "Model: \"sequential\"\n",
      "_________________________________________________________________\n",
      "Layer (type)                 Output Shape              Param #   \n",
      "=================================================================\n",
      "1 (Conv3D)                   (None, 85, 200, 120, 32)  2624      \n",
      "_________________________________________________________________\n",
      "2 (MaxPooling3D)             (None, 84, 100, 60, 32)   0         \n",
      "_________________________________________________________________\n",
      "3 (Dropout)                  (None, 84, 100, 60, 32)   0         \n",
      "_________________________________________________________________\n",
      "4 (Conv3D)                   (None, 84, 100, 60, 64)   55360     \n",
      "_________________________________________________________________\n",
      "5 (MaxPooling3D)             (None, 28, 34, 20, 64)    0         \n",
      "_________________________________________________________________\n",
      "6 (Dropout)                  (None, 28, 34, 20, 64)    0         \n",
      "_________________________________________________________________\n",
      "7 (Conv3D)                   (None, 28, 34, 20, 128)   221312    \n",
      "_________________________________________________________________\n",
      "8 (MaxPooling3D)             (None, 10, 12, 7, 128)    0         \n",
      "_________________________________________________________________\n",
      "9 (Dropout)                  (None, 10, 12, 7, 128)    0         \n",
      "_________________________________________________________________\n",
      "10 (Conv3D)                  (None, 10, 12, 7, 256)    884992    \n",
      "_________________________________________________________________\n",
      "11 (MaxPooling3D)            (None, 4, 4, 3, 256)      0         \n",
      "_________________________________________________________________\n",
      "12 (Dropout)                 (None, 4, 4, 3, 256)      0         \n",
      "_________________________________________________________________\n",
      "13 (Flatten)                 (None, 12288)             0         \n",
      "_________________________________________________________________\n",
      "14 (Dense)                   (None, 1024)              12583936  \n",
      "_________________________________________________________________\n",
      "dropout (Dropout)            (None, 1024)              0         \n",
      "_________________________________________________________________\n",
      "15 (Dense)                   (None, 174)               178350    \n",
      "=================================================================\n",
      "Total params: 13,926,574\n",
      "Trainable params: 13,926,574\n",
      "Non-trainable params: 0\n",
      "_________________________________________________________________\n"
     ]
    }
   ],
   "source": [
    "input_shape = (config.max_frames, config.img_width, config.img_height, 3)\n",
    "model= Small_C3D(input_shape, config.n_classes)\n",
    "model.summary()"
   ]
  },
  {
   "cell_type": "code",
   "execution_count": null,
   "metadata": {},
   "outputs": [],
   "source": [
    "model.fit(train_SMTH.batch(2))"
   ]
  }
 ],
 "metadata": {
  "kernelspec": {
   "display_name": "Python 3",
   "language": "python",
   "name": "python3"
  },
  "language_info": {
   "codemirror_mode": {
    "name": "ipython",
    "version": 3
   },
   "file_extension": ".py",
   "mimetype": "text/x-python",
   "name": "python",
   "nbconvert_exporter": "python",
   "pygments_lexer": "ipython3",
   "version": "3.6.9"
  }
 },
 "nbformat": 4,
 "nbformat_minor": 4
}
