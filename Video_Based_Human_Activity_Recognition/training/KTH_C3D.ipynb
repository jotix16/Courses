{
 "cells": [
  {
   "cell_type": "code",
   "execution_count": 1,
   "metadata": {},
   "outputs": [],
   "source": [
    "import time\n",
    "import tensorflow as tf\n",
    "import numpy as np\n",
    "import matplotlib.pyplot as plt\n",
    "\n",
    "import os\n",
    "import sys\n",
    "sys.path.insert(0, os.path.dirname('../'))\n",
    "\n",
    "from config import Config\n",
    "from data_utils import video_to_frames\n",
    "from data_utils import metadata_loader\n",
    "from data_utils import dataset_builder\n",
    "\n",
    "from models.C3D import C3D_model, Small_C3D, Bigger_C3D\n",
    "import pickle"
   ]
  },
  {
   "cell_type": "code",
   "execution_count": 2,
   "metadata": {},
   "outputs": [],
   "source": [
    "import matplotlib.pyplot as plt\n",
    "import seaborn as sns\n",
    "import numpy as np\n",
    "from sklearn.metrics import accuracy_score, confusion_matrix\n",
    "CLASS_NAMES = os.listdir(\"/home/jupyter/video-based-human-activity-recognition/data/kth-actions/video\")\n",
    "\n",
    "def kth_confusion_matrix(model, dataset):\n",
    "    onehot_targets = [sample[1].numpy() for sample in dataset]\n",
    "    onehot_targets = np.concatenate(onehot_targets, axis=0)\n",
    "    targets = np.argmax(onehot_targets, axis=1)\n",
    "\n",
    "    onehot_preds = model.predict(dataset)\n",
    "    preds = np.argmax(onehot_preds, axis=1)\n",
    "    conf = confusion_matrix(targets, preds)\n",
    "    \n",
    "    fig = plt.figure()\n",
    "    ax = plt.subplot()\n",
    "    sns.heatmap(conf, annot=True, ax=ax, cmap=sns.cubehelix_palette(8), fmt='g',\n",
    "        xticklabels=CLASS_NAMES,\n",
    "        yticklabels=CLASS_NAMES)\n",
    "    ax.set_xlabel('Predicted labels')\n",
    "    ax.set_ylabel('True labels')\n",
    "    ax.set_title('Confusion Matrix')\n",
    "    #fig.savefig(path+\"/confmax.pdf\")\n",
    "    plt.show()\n"
   ]
  },
  {
   "cell_type": "markdown",
   "metadata": {},
   "source": [
    "# Load KTH  dataset"
   ]
  },
  {
   "cell_type": "code",
   "execution_count": 3,
   "metadata": {},
   "outputs": [
    {
     "name": "stdout",
     "output_type": "stream",
     "text": [
      "(2, 25, 120, 120, 1) (2, 6)\n",
      "(2, 25, 120, 120, 1) (2, 6)\n",
      "(2, 25, 120, 120, 1) (2, 6)\n"
     ]
    },
    {
     "data": {
      "text/plain": [
       "<MapDataset shapes: ((None, 120, 120, 1), (6,)), types: (tf.float32, tf.int32)>"
      ]
     },
     "execution_count": 3,
     "metadata": {},
     "output_type": "execute_result"
    }
   ],
   "source": [
    "from data_utils.kth_dataset_builder import DatasetBuilder\n",
    "\n",
    "# Setup builder\n",
    "builder = DatasetBuilder(\n",
    "    video_path='../data/kth-actions/video_trimmed',\n",
    "    frame_path='../data/kth-actions/frame_trimmed',\n",
    "    img_width=120, img_height=120, ms_per_frame=100,max_frames=25)\n",
    "\n",
    "# Convert videos and generate metadata\n",
    "#builder.convert_videos_to_frames()\n",
    "metadata = builder.generate_metadata()\n",
    "\n",
    "# Build datasets\n",
    "train_dataset = builder.make_video_dataset(metadata=metadata['train'])\n",
    "valid_dataset = builder.make_video_dataset(metadata=metadata['valid'])\n",
    "test_datasest = builder.make_video_dataset(metadata=metadata['test'])\n",
    "\n",
    "IMG_SIZE = 160 # All images will be resized to 160x160\n",
    "\n",
    "def preproces(image, label):\n",
    "    #image = (image/255)\n",
    "    return image, label\n",
    "\n",
    "train = train_dataset.map(preproces)\n",
    "validation = valid_dataset.map(preproces)\n",
    "test = test_datasest.map(preproces)\n",
    "\n",
    "\n",
    "# Verify that the datasets work\n",
    "for vid, label in train.batch(2).take(3):\n",
    "    print(vid.shape, label.shape)\n",
    "\n",
    "train"
   ]
  },
  {
   "cell_type": "markdown",
   "metadata": {},
   "source": [
    "#  Load a not that big version of c3d"
   ]
  },
  {
   "cell_type": "code",
   "execution_count": 10,
   "metadata": {
    "scrolled": true
   },
   "outputs": [
    {
     "name": "stdout",
     "output_type": "stream",
     "text": [
      "Model: \"sequential_1\"\n",
      "_________________________________________________________________\n",
      "Layer (type)                 Output Shape              Param #   \n",
      "=================================================================\n",
      "1 (Conv3D)                   (None, 25, 120, 120, 16)  448       \n",
      "_________________________________________________________________\n",
      "4 (Conv3D)                   (None, 25, 120, 120, 32)  13856     \n",
      "_________________________________________________________________\n",
      "5 (MaxPooling3D)             (None, 9, 40, 40, 32)     0         \n",
      "_________________________________________________________________\n",
      "7 (Conv3D)                   (None, 9, 40, 40, 64)     55360     \n",
      "_________________________________________________________________\n",
      "10 (Conv3D)                  (None, 9, 40, 40, 128)    221312    \n",
      "_________________________________________________________________\n",
      "11 (MaxPooling3D)            (None, 3, 14, 14, 128)    0         \n",
      "_________________________________________________________________\n",
      "batch_normalization_1 (Batch (None, 3, 14, 14, 128)    512       \n",
      "_________________________________________________________________\n",
      "13 (Flatten)                 (None, 75264)             0         \n",
      "_________________________________________________________________\n",
      "dense_1 (Dense)              (None, 6)                 451590    \n",
      "=================================================================\n",
      "Total params: 743,078\n",
      "Trainable params: 742,822\n",
      "Non-trainable params: 256\n",
      "_________________________________________________________________\n"
     ]
    }
   ],
   "source": [
    "input_shape = (25, 120, 120, 1)\n",
    "model= Small_C3D(input_shape, 6)\n",
    "model.summary()"
   ]
  },
  {
   "cell_type": "code",
   "execution_count": 11,
   "metadata": {},
   "outputs": [
    {
     "name": "stdout",
     "output_type": "stream",
     "text": [
      "Train for 112 steps, validate for 359 steps\n",
      "Epoch 1/70\n",
      "112/112 [==============================] - 107s 952ms/step - loss: 0.4977 - accuracy: 0.5093 - val_loss: 0.5313 - val_accuracy: 0.1950\n",
      "Epoch 2/70\n",
      "112/112 [==============================] - 96s 855ms/step - loss: 0.2817 - accuracy: 0.6740 - val_loss: 0.5444 - val_accuracy: 0.5348\n",
      "Epoch 3/70\n",
      "112/112 [==============================] - 106s 945ms/step - loss: 0.2362 - accuracy: 0.7427 - val_loss: 0.4223 - val_accuracy: 0.3955\n",
      "Epoch 4/70\n",
      "112/112 [==============================] - 96s 853ms/step - loss: 0.2067 - accuracy: 0.7982 - val_loss: 0.3276 - val_accuracy: 0.6685\n",
      "Epoch 5/70\n",
      "112/112 [==============================] - 97s 869ms/step - loss: 0.1879 - accuracy: 0.8137 - val_loss: 0.2431 - val_accuracy: 0.7632\n",
      "Epoch 6/70\n",
      "112/112 [==============================] - 106s 947ms/step - loss: 0.1696 - accuracy: 0.8573 - val_loss: 0.2010 - val_accuracy: 0.8440\n",
      "Epoch 7/70\n",
      "112/112 [==============================] - 106s 950ms/step - loss: 0.1647 - accuracy: 0.8579 - val_loss: 0.2929 - val_accuracy: 0.7744\n",
      "Epoch 8/70\n",
      "112/112 [==============================] - 107s 956ms/step - loss: 0.1526 - accuracy: 0.8758 - val_loss: 0.2985 - val_accuracy: 0.7632\n",
      "Epoch 9/70\n",
      "112/112 [==============================] - 97s 868ms/step - loss: 0.1433 - accuracy: 0.8884 - val_loss: 0.2104 - val_accuracy: 0.7883\n",
      "Epoch 10/70\n",
      "112/112 [==============================] - 97s 864ms/step - loss: 0.1332 - accuracy: 0.8967 - val_loss: 0.2711 - val_accuracy: 0.7939\n",
      "Epoch 11/70\n",
      "112/112 [==============================] - 96s 861ms/step - loss: 0.1299 - accuracy: 0.9015 - val_loss: 0.3150 - val_accuracy: 0.7632\n",
      "Epoch 12/70\n",
      "112/112 [==============================] - 97s 866ms/step - loss: 0.1237 - accuracy: 0.9057 - val_loss: 0.2356 - val_accuracy: 0.7939\n",
      "Epoch 13/70\n",
      "112/112 [==============================] - 97s 864ms/step - loss: 0.1135 - accuracy: 0.9218 - val_loss: 0.3018 - val_accuracy: 0.7660\n",
      "Epoch 14/70\n",
      "112/112 [==============================] - 97s 870ms/step - loss: 0.1174 - accuracy: 0.9218 - val_loss: 0.2642 - val_accuracy: 0.8635\n",
      "Epoch 15/70\n",
      "112/112 [==============================] - 108s 965ms/step - loss: 0.1101 - accuracy: 0.9248 - val_loss: 0.2095 - val_accuracy: 0.8134\n",
      "Epoch 16/70\n",
      "112/112 [==============================] - 98s 874ms/step - loss: 0.1063 - accuracy: 0.9284 - val_loss: 0.1909 - val_accuracy: 0.8747\n",
      "Epoch 17/70\n",
      "112/112 [==============================] - 98s 876ms/step - loss: 0.1034 - accuracy: 0.9427 - val_loss: 0.3359 - val_accuracy: 0.7242\n",
      "Epoch 18/70\n",
      "112/112 [==============================] - 98s 879ms/step - loss: 0.1012 - accuracy: 0.9397 - val_loss: 0.2285 - val_accuracy: 0.8022\n",
      "Epoch 19/70\n",
      "112/112 [==============================] - 99s 883ms/step - loss: 0.0966 - accuracy: 0.9481 - val_loss: 0.1641 - val_accuracy: 0.8802\n",
      "Epoch 20/70\n",
      "112/112 [==============================] - 98s 876ms/step - loss: 0.0924 - accuracy: 0.9516 - val_loss: 0.1651 - val_accuracy: 0.8774\n",
      "Epoch 21/70\n",
      "112/112 [==============================] - 99s 880ms/step - loss: 0.1018 - accuracy: 0.9433 - val_loss: 0.1996 - val_accuracy: 0.8468\n",
      "Epoch 22/70\n",
      "112/112 [==============================] - 99s 885ms/step - loss: 0.0890 - accuracy: 0.9504 - val_loss: 0.2073 - val_accuracy: 0.8691\n",
      "Epoch 23/70\n",
      "112/112 [==============================] - 99s 881ms/step - loss: 0.0911 - accuracy: 0.9493 - val_loss: 0.1928 - val_accuracy: 0.8496\n",
      "Epoch 24/70\n",
      "112/112 [==============================] - 99s 886ms/step - loss: 0.0923 - accuracy: 0.9463 - val_loss: 0.1944 - val_accuracy: 0.8468\n",
      "Epoch 25/70\n",
      "112/112 [==============================] - 100s 890ms/step - loss: 0.0890 - accuracy: 0.9582 - val_loss: 0.2005 - val_accuracy: 0.8552\n",
      "Epoch 26/70\n",
      "112/112 [==============================] - 99s 888ms/step - loss: 0.0822 - accuracy: 0.9600 - val_loss: 0.1406 - val_accuracy: 0.8886\n",
      "Epoch 27/70\n",
      "112/112 [==============================] - 101s 898ms/step - loss: 0.0925 - accuracy: 0.9510 - val_loss: 0.1930 - val_accuracy: 0.8579\n",
      "Epoch 28/70\n",
      "112/112 [==============================] - 100s 892ms/step - loss: 0.0812 - accuracy: 0.9576 - val_loss: 0.1568 - val_accuracy: 0.8607\n",
      "Epoch 29/70\n",
      "112/112 [==============================] - 100s 897ms/step - loss: 0.0834 - accuracy: 0.9606 - val_loss: 0.1723 - val_accuracy: 0.8663\n",
      "Epoch 30/70\n",
      "112/112 [==============================] - 100s 896ms/step - loss: 0.0821 - accuracy: 0.9606 - val_loss: 0.1963 - val_accuracy: 0.8635\n",
      "Epoch 31/70\n",
      "112/112 [==============================] - 101s 904ms/step - loss: 0.0785 - accuracy: 0.9612 - val_loss: 0.2074 - val_accuracy: 0.8412\n",
      "Epoch 32/70\n",
      "112/112 [==============================] - 100s 893ms/step - loss: 0.0788 - accuracy: 0.9701 - val_loss: 0.1834 - val_accuracy: 0.8496\n",
      "Epoch 33/70\n",
      "112/112 [==============================] - 101s 897ms/step - loss: 0.0850 - accuracy: 0.9600 - val_loss: 0.2697 - val_accuracy: 0.7604\n",
      "Epoch 34/70\n",
      "112/112 [==============================] - 101s 903ms/step - loss: 0.0757 - accuracy: 0.9666 - val_loss: 0.1674 - val_accuracy: 0.8663\n",
      "Epoch 35/70\n",
      "112/112 [==============================] - 101s 901ms/step - loss: 0.0778 - accuracy: 0.9618 - val_loss: 0.2025 - val_accuracy: 0.8217\n",
      "Epoch 36/70\n",
      "112/112 [==============================] - 104s 924ms/step - loss: 0.0812 - accuracy: 0.9612 - val_loss: 0.3634 - val_accuracy: 0.7409\n",
      "Epoch 37/70\n",
      "112/112 [==============================] - 103s 916ms/step - loss: 0.0774 - accuracy: 0.9648 - val_loss: 0.1519 - val_accuracy: 0.8969\n",
      "Epoch 38/70\n",
      "112/112 [==============================] - 102s 914ms/step - loss: 0.0722 - accuracy: 0.9731 - val_loss: 0.1842 - val_accuracy: 0.8802\n",
      "Epoch 39/70\n",
      "112/112 [==============================] - 102s 911ms/step - loss: 0.0676 - accuracy: 0.9749 - val_loss: 0.2305 - val_accuracy: 0.8162\n",
      "Epoch 40/70\n",
      "112/112 [==============================] - 102s 909ms/step - loss: 0.0712 - accuracy: 0.9672 - val_loss: 0.1414 - val_accuracy: 0.9025\n",
      "Epoch 41/70\n",
      "112/112 [==============================] - 101s 904ms/step - loss: 0.0680 - accuracy: 0.9743 - val_loss: 0.2699 - val_accuracy: 0.7939\n",
      "Epoch 42/70\n",
      "112/112 [==============================] - 101s 904ms/step - loss: 0.0668 - accuracy: 0.9725 - val_loss: 0.1441 - val_accuracy: 0.8858\n",
      "Epoch 43/70\n",
      "112/112 [==============================] - 102s 911ms/step - loss: 0.0693 - accuracy: 0.9737 - val_loss: 0.1591 - val_accuracy: 0.8719\n",
      "Epoch 44/70\n",
      "112/112 [==============================] - 102s 913ms/step - loss: 0.0666 - accuracy: 0.9719 - val_loss: 0.1491 - val_accuracy: 0.8914\n",
      "Epoch 45/70\n",
      "112/112 [==============================] - 101s 905ms/step - loss: 0.0663 - accuracy: 0.9749 - val_loss: 0.1512 - val_accuracy: 0.8886\n",
      "Epoch 46/70\n",
      "112/112 [==============================] - 102s 909ms/step - loss: 0.0673 - accuracy: 0.9696 - val_loss: 0.1673 - val_accuracy: 0.8774\n",
      "Epoch 47/70\n",
      "112/112 [==============================] - 102s 912ms/step - loss: 0.0682 - accuracy: 0.9773 - val_loss: 0.1409 - val_accuracy: 0.9053\n",
      "Epoch 48/70\n",
      "112/112 [==============================] - 102s 909ms/step - loss: 0.0643 - accuracy: 0.9755 - val_loss: 0.1527 - val_accuracy: 0.8886\n",
      "Epoch 49/70\n",
      "112/112 [==============================] - 102s 909ms/step - loss: 0.0609 - accuracy: 0.9797 - val_loss: 0.1673 - val_accuracy: 0.8914\n",
      "Epoch 50/70\n",
      "112/112 [==============================] - 103s 918ms/step - loss: 0.0646 - accuracy: 0.9773 - val_loss: 0.1646 - val_accuracy: 0.8802\n",
      "Epoch 51/70\n",
      "112/112 [==============================] - 103s 917ms/step - loss: 0.0596 - accuracy: 0.9809 - val_loss: 0.1557 - val_accuracy: 0.8914\n",
      "Epoch 52/70\n",
      "112/112 [==============================] - 102s 914ms/step - loss: 0.0632 - accuracy: 0.9719 - val_loss: 0.1702 - val_accuracy: 0.8886\n",
      "Epoch 53/70\n",
      "112/112 [==============================] - 107s 954ms/step - loss: 0.0629 - accuracy: 0.9773 - val_loss: 0.1439 - val_accuracy: 0.8914\n",
      "Epoch 54/70\n",
      "112/112 [==============================] - 103s 923ms/step - loss: 0.0598 - accuracy: 0.9785 - val_loss: 0.1507 - val_accuracy: 0.8858\n",
      "Epoch 55/70\n",
      "112/112 [==============================] - 103s 917ms/step - loss: 0.0645 - accuracy: 0.9803 - val_loss: 0.2463 - val_accuracy: 0.8273\n",
      "Epoch 56/70\n",
      "112/112 [==============================] - 104s 926ms/step - loss: 0.0595 - accuracy: 0.9821 - val_loss: 0.1505 - val_accuracy: 0.8942\n",
      "Epoch 57/70\n",
      "112/112 [==============================] - 102s 914ms/step - loss: 0.0612 - accuracy: 0.9773 - val_loss: 0.1426 - val_accuracy: 0.8802\n",
      "Epoch 58/70\n",
      "112/112 [==============================] - 103s 920ms/step - loss: 0.0561 - accuracy: 0.9821 - val_loss: 0.1598 - val_accuracy: 0.8886\n",
      "Epoch 59/70\n",
      "112/112 [==============================] - 108s 966ms/step - loss: 0.0609 - accuracy: 0.9839 - val_loss: 0.1745 - val_accuracy: 0.8719\n",
      "Epoch 60/70\n",
      "112/112 [==============================] - 103s 921ms/step - loss: 0.0575 - accuracy: 0.9779 - val_loss: 0.1396 - val_accuracy: 0.8997\n",
      "Epoch 61/70\n",
      "112/112 [==============================] - 104s 925ms/step - loss: 0.0522 - accuracy: 0.9857 - val_loss: 0.1553 - val_accuracy: 0.8969\n",
      "Epoch 62/70\n",
      "112/112 [==============================] - 103s 920ms/step - loss: 0.0559 - accuracy: 0.9809 - val_loss: 0.1489 - val_accuracy: 0.9025\n",
      "Epoch 63/70\n",
      "112/112 [==============================] - 104s 926ms/step - loss: 0.0553 - accuracy: 0.9797 - val_loss: 0.1771 - val_accuracy: 0.8719\n",
      "Epoch 64/70\n",
      "112/112 [==============================] - 105s 933ms/step - loss: 0.0546 - accuracy: 0.9827 - val_loss: 0.1683 - val_accuracy: 0.8663\n",
      "Epoch 65/70\n",
      "112/112 [==============================] - 103s 919ms/step - loss: 0.0564 - accuracy: 0.9833 - val_loss: 0.1579 - val_accuracy: 0.8747\n",
      "Epoch 66/70\n",
      "112/112 [==============================] - 104s 925ms/step - loss: 0.0572 - accuracy: 0.9821 - val_loss: 0.1596 - val_accuracy: 0.8774\n",
      "Epoch 67/70\n",
      "112/112 [==============================] - 104s 930ms/step - loss: 0.0542 - accuracy: 0.9857 - val_loss: 0.1337 - val_accuracy: 0.8969\n",
      "Epoch 68/70\n",
      "112/112 [==============================] - 104s 931ms/step - loss: 0.0568 - accuracy: 0.9791 - val_loss: 0.1379 - val_accuracy: 0.9053\n",
      "Epoch 69/70\n",
      "112/112 [==============================] - 103s 922ms/step - loss: 0.0589 - accuracy: 0.9761 - val_loss: 0.1403 - val_accuracy: 0.8747\n",
      "Epoch 70/70\n",
      "112/112 [==============================] - 105s 934ms/step - loss: 0.0547 - accuracy: 0.9797 - val_loss: 0.1419 - val_accuracy: 0.8969\n",
      "Train for 112 steps, validate for 359 steps\n",
      "Epoch 1/20\n",
      "112/112 [==============================] - 104s 930ms/step - loss: 0.0373 - acc: 0.9946 - val_loss: 0.1108 - val_acc: 0.9192\n",
      "Epoch 2/20\n",
      "112/112 [==============================] - 104s 926ms/step - loss: 0.0365 - acc: 0.9940 - val_loss: 0.0956 - val_acc: 0.9387\n",
      "Epoch 3/20\n",
      "112/112 [==============================] - 104s 927ms/step - loss: 0.0328 - acc: 0.9946 - val_loss: 0.1088 - val_acc: 0.9053\n",
      "Epoch 4/20\n",
      "112/112 [==============================] - 105s 939ms/step - loss: 0.0322 - acc: 0.9976 - val_loss: 0.1128 - val_acc: 0.9053\n",
      "Epoch 5/20\n",
      "112/112 [==============================] - 112s 996ms/step - loss: 0.0314 - acc: 0.9958 - val_loss: 0.1011 - val_acc: 0.9304\n",
      "Epoch 6/20\n",
      "112/112 [==============================] - 104s 927ms/step - loss: 0.0283 - acc: 0.9988 - val_loss: 0.0984 - val_acc: 0.9109\n",
      "Epoch 7/20\n",
      "112/112 [==============================] - 105s 933ms/step - loss: 0.0290 - acc: 0.9970 - val_loss: 0.0907 - val_acc: 0.9331\n",
      "Epoch 8/20\n",
      "112/112 [==============================] - 104s 931ms/step - loss: 0.0275 - acc: 0.9976 - val_loss: 0.0840 - val_acc: 0.9304\n",
      "Epoch 9/20\n",
      "112/112 [==============================] - 104s 929ms/step - loss: 0.0268 - acc: 0.9994 - val_loss: 0.0996 - val_acc: 0.9276\n",
      "Epoch 10/20\n",
      "112/112 [==============================] - 105s 937ms/step - loss: 0.0280 - acc: 0.9952 - val_loss: 0.0945 - val_acc: 0.9276\n",
      "Epoch 11/20\n",
      "112/112 [==============================] - 105s 935ms/step - loss: 0.0251 - acc: 1.0000 - val_loss: 0.1030 - val_acc: 0.9081\n",
      "Epoch 12/20\n",
      "112/112 [==============================] - 105s 935ms/step - loss: 0.0246 - acc: 0.9982 - val_loss: 0.0903 - val_acc: 0.9359\n",
      "Epoch 13/20\n",
      "112/112 [==============================] - 113s 1s/step - loss: 0.0247 - acc: 0.9994 - val_loss: 0.0918 - val_acc: 0.9136\n",
      "Epoch 14/20\n",
      "112/112 [==============================] - 104s 930ms/step - loss: 0.0247 - acc: 0.9988 - val_loss: 0.0899 - val_acc: 0.9248\n",
      "Epoch 15/20\n",
      "112/112 [==============================] - 105s 941ms/step - loss: 0.0235 - acc: 1.0000 - val_loss: 0.0928 - val_acc: 0.9192\n",
      "Epoch 16/20\n",
      "112/112 [==============================] - 105s 937ms/step - loss: 0.0234 - acc: 0.9988 - val_loss: 0.0882 - val_acc: 0.9359\n",
      "Epoch 17/20\n",
      "112/112 [==============================] - 105s 940ms/step - loss: 0.0230 - acc: 0.9988 - val_loss: 0.0897 - val_acc: 0.9276\n",
      "Epoch 18/20\n",
      "112/112 [==============================] - 105s 942ms/step - loss: 0.0222 - acc: 0.9982 - val_loss: 0.0876 - val_acc: 0.9081\n",
      "Epoch 19/20\n",
      "112/112 [==============================] - 105s 935ms/step - loss: 0.0219 - acc: 0.9994 - val_loss: 0.0922 - val_acc: 0.9304\n",
      "Epoch 20/20\n",
      "112/112 [==============================] - 106s 942ms/step - loss: 0.0209 - acc: 1.0000 - val_loss: 0.0929 - val_acc: 0.9136\n"
     ]
    },
    {
     "data": {
      "text/plain": [
       "<tensorflow.python.keras.callbacks.History at 0x7fa7cc1b3950>"
      ]
     },
     "execution_count": 11,
     "metadata": {},
     "output_type": "execute_result"
    }
   ],
   "source": [
    "history = model.fit(train.shuffle(150).batch(15), validation_data=validation.batch(1), epochs=70)\n",
    "model.compile(loss='hinge', optimizer=tf.keras.optimizers.RMSprop(momentum=0.001), metrics=['acc'])\n",
    "# model.compile(loss='hinge', optimizer='adam', metrics=['acc'])\n",
    "model.compile(loss='hinge', optimizer=tf.keras.optimizers.Adadelta(lr=0.1,rho=0.8), metrics=['acc'])\n",
    "model.fit(train.shuffle(150).batch(15), validation_data=validation.batch(1), epochs=20)"
   ]
  },
  {
   "cell_type": "code",
   "execution_count": 13,
   "metadata": {},
   "outputs": [
    {
     "name": "stdout",
     "output_type": "stream",
     "text": [
      "357/357 [==============================] - 15s 41ms/step - loss: 0.0910 - acc: 0.9272\n",
      "357/357 [==============================] - 15s 41ms/step - loss: 0.0976 - acc: 0.9244\n",
      "357/357 [==============================] - 15s 42ms/step - loss: 0.0911 - acc: 0.9216\n",
      "357/357 [==============================] - 15s 42ms/step - loss: 0.0976 - acc: 0.9272\n",
      "357/357 [==============================] - 15s 41ms/step - loss: 0.0975 - acc: 0.9160\n",
      "357/357 [==============================] - 16s 43ms/step - loss: 0.0930 - acc: 0.9272\n",
      "357/357 [==============================] - 15s 41ms/step - loss: 0.0993 - acc: 0.9132\n",
      "357/357 [==============================] - 15s 43ms/step - loss: 0.0954 - acc: 0.9132\n",
      "357/357 [==============================] - 16s 44ms/step - loss: 0.0994 - acc: 0.9104\n",
      "357/357 [==============================] - 15s 42ms/step - loss: 0.0939 - acc: 0.9132\n"
     ]
    },
    {
     "data": {
      "text/plain": [
       "0.91932774"
      ]
     },
     "execution_count": 13,
     "metadata": {},
     "output_type": "execute_result"
    }
   ],
   "source": [
    "np.mean([model.evaluate(test_datasest.batch(1))[1] for _ in range(10)])"
   ]
  },
  {
   "cell_type": "code",
   "execution_count": 14,
   "metadata": {},
   "outputs": [
    {
     "name": "stdout",
     "output_type": "stream",
     "text": [
      "359/359 [==============================] - 15s 42ms/step - loss: 0.0915 - acc: 0.9192\n",
      "359/359 [==============================] - 16s 43ms/step - loss: 0.0806 - acc: 0.9359\n",
      "359/359 [==============================] - 15s 41ms/step - loss: 0.0908 - acc: 0.9248\n",
      "359/359 [==============================] - 16s 43ms/step - loss: 0.0845 - acc: 0.9304\n",
      "359/359 [==============================] - 15s 42ms/step - loss: 0.0932 - acc: 0.9248\n",
      "359/359 [==============================] - 15s 42ms/step - loss: 0.0862 - acc: 0.9304\n",
      "359/359 [==============================] - 15s 41ms/step - loss: 0.0842 - acc: 0.9220\n",
      "359/359 [==============================] - 15s 42ms/step - loss: 0.0853 - acc: 0.9331\n",
      "359/359 [==============================] - 15s 42ms/step - loss: 0.0914 - acc: 0.9164\n",
      "359/359 [==============================] - 15s 42ms/step - loss: 0.0911 - acc: 0.9164\n"
     ]
    },
    {
     "data": {
      "text/plain": [
       "0.92534816"
      ]
     },
     "execution_count": 14,
     "metadata": {},
     "output_type": "execute_result"
    }
   ],
   "source": [
    "np.mean([model.evaluate(validation.batch(1))[1] for _ in range(10)])"
   ]
  },
  {
   "cell_type": "code",
   "execution_count": null,
   "metadata": {},
   "outputs": [],
   "source": []
  },
  {
   "cell_type": "code",
   "execution_count": 104,
   "metadata": {},
   "outputs": [
    {
     "data": {
      "text/plain": [
       "['handclapping', 'handwaving', 'boxing', 'jogging', 'walking', 'running']"
      ]
     },
     "execution_count": 104,
     "metadata": {},
     "output_type": "execute_result"
    }
   ],
   "source": []
  },
  {
   "cell_type": "code",
   "execution_count": 90,
   "metadata": {},
   "outputs": [],
   "source": []
  },
  {
   "cell_type": "code",
   "execution_count": 18,
   "metadata": {},
   "outputs": [
    {
     "name": "stderr",
     "output_type": "stream",
     "text": [
      "/opt/conda/lib/python3.7/site-packages/ipykernel_launcher.py:40: MatplotlibDeprecationWarning: Unrecognized location 'bottom left'. Falling back on 'best'; valid locations are\n",
      "\tbest\n",
      "\tupper right\n",
      "\tupper left\n",
      "\tlower left\n",
      "\tlower right\n",
      "\tright\n",
      "\tcenter left\n",
      "\tcenter right\n",
      "\tlower center\n",
      "\tupper center\n",
      "\tcenter\n",
      "This will raise an exception in 3.3.\n"
     ]
    },
    {
     "data": {
      "image/png": "[encoded data removed]",
      "text/plain": [
       "<Figure size 432x288 with 2 Axes>"
      ]
     },
     "metadata": {
      "needs_background": "light"
     },
     "output_type": "display_data"
    },
    {
     "name": "stdout",
     "output_type": "stream",
     "text": [
      "INFO:tensorflow:Assets written to: /home/jupyter/LOGS/trimmed_c3d_120_120_25frames_100ms/assets\n",
      "Dumping the logs to  /home/jupyter/LOGS/trimmed_c3d_120_120_25frames_100ms/logs.pkl\n"
     ]
    },
    {
     "data": {
      "image/png": "[encoded data removed]",
      "text/plain": [
       "<Figure size 360x360 with 1 Axes>"
      ]
     },
     "metadata": {
      "needs_background": "light"
     },
     "output_type": "display_data"
    }
   ],
   "source": [
    "log(model, test, history, \"trimmed_c3d_120_120_25frames_100ms\")"
   ]
  },
  {
   "cell_type": "code",
   "execution_count": 16,
   "metadata": {},
   "outputs": [],
   "source": [
    "import os\n",
    "from sklearn.metrics import confusion_matrix\n",
    "from mlxtend.plotting import plot_confusion_matrix\n",
    "\n",
    "CLASS_NAMES = os.listdir(\"/home/jupyter/video-based-human-activity-recognition/data/kth-actions/video\")\n",
    "\n",
    "def log(model, test_ds, history_tuned, path):\n",
    "# %% history storage\n",
    "    history_tuned_saved = []\n",
    "    history_tuned_saved.append(history_tuned)\n",
    "    folder_path = \"/home/jupyter/LOGS/\"+path\n",
    "    os.mkdir(folder_path)\n",
    "    # %% PLOTTING\n",
    "    def plot(history, y_pred, y_test):\n",
    "        acc = []\n",
    "        acc_val = []\n",
    "        loss = []\n",
    "        loss_val = []\n",
    "        for i in range(len(history)):\n",
    "            acc += history[i].history['accuracy']\n",
    "            acc_val += history[i].history['val_accuracy']\n",
    "            loss += history[i].history['loss']\n",
    "            loss_val += history[i].history['val_loss']\n",
    "        plt.subplot(1, 2, 1)\n",
    "        plt.plot(acc, label=\"Train Acc\")\n",
    "        plt.plot(acc_val, label=\"Valid Acc\")\n",
    "        plt.xlabel(\"Epoch\")\n",
    "        plt.xlim(0, len(acc))\n",
    "        plt.ylabel(\"Accuracy\")\n",
    "        plt.ylim(0, 1)\n",
    "        plt.legend()\n",
    "        plt.title(\"Model accuracy\")\n",
    "\n",
    "        plt.subplot(1, 2, 2)\n",
    "        plt.plot(loss, label=\"Train Loss\")\n",
    "        plt.plot(loss_val, label=\"Valid Loss\")\n",
    "        plt.xlabel(\"Epoch\")\n",
    "        plt.xlim(0, len(acc))\n",
    "        plt.ylabel(\"Loss\")\n",
    "        plt.legend(loc=\"bottom left\")\n",
    "        plt.title(\"Model accuracy\")\n",
    "        plt.savefig(folder_path+\"/acc_loss\", bbox_inches='tight')\n",
    "        plt.show()\n",
    "        cmat = confusion_matrix(y_test, y_pred)\n",
    "        cmat_plot = plot_confusion_matrix(conf_mat=cmat, figsize=(5, 5),\n",
    "                                          class_names=CLASS_NAMES)\n",
    "        plt.savefig(folder_path+\"/confusion_matrix\", bbox_inches='tight')\n",
    "        return [acc, acc_val, loss, loss_val]\n",
    "\n",
    "\n",
    "    # %%\n",
    "    y_test = [np.argmax(l.numpy()) for _, l in test_ds.batch(1)]\n",
    "    y_pred_tuned = model.predict_classes(test_ds.batch(1),batch_size=None)\n",
    "\n",
    "\n",
    "    # %%\n",
    "    logs = plot(history_tuned_saved, y_pred_tuned, y_test)\n",
    "    model.save(folder_path)\n",
    "    # %%\n",
    "    save_logs_to = folder_path+\"/logs.pkl\"\n",
    "    if os.path.exists(save_logs_to):\n",
    "        print(\"File already exits, please try another path or filename\")\n",
    "\n",
    "    else:\n",
    "        print(\"Dumping the logs to \", save_logs_to)\n",
    "        with open(save_logs_to, 'wb') as f:\n",
    "            obj = {\n",
    "                'acc': logs[0],\n",
    "                'acc_val': logs[1],\n",
    "                'loss': logs[2],\n",
    "                'loss_val': logs[3],\n",
    "                'y_test': y_test,\n",
    "                'y_pred': y_pred_tuned}\n",
    "            pickle.dump(obj, f)\n"
   ]
  },
  {
   "cell_type": "code",
   "execution_count": 113,
   "metadata": {},
   "outputs": [
    {
     "name": "stdout",
     "output_type": "stream",
     "text": [
      "Collecting mlxtend\n",
      "  Downloading mlxtend-0.17.2-py2.py3-none-any.whl (1.3 MB)\n",
      "\u001b[K     |████████████████████████████████| 1.3 MB 14.9 MB/s eta 0:00:01\n",
      "\u001b[?25hRequirement already satisfied: setuptools in /opt/conda/lib/python3.7/site-packages (from mlxtend) (46.2.0.post20200511)\n",
      "Requirement already satisfied: numpy>=1.16.2 in /opt/conda/lib/python3.7/site-packages (from mlxtend) (1.18.4)\n",
      "Requirement already satisfied: scipy>=1.2.1 in /opt/conda/lib/python3.7/site-packages (from mlxtend) (1.4.1)\n",
      "Requirement already satisfied: joblib>=0.13.2 in /opt/conda/lib/python3.7/site-packages (from mlxtend) (0.14.1)\n",
      "Requirement already satisfied: matplotlib>=3.0.0 in /opt/conda/lib/python3.7/site-packages (from mlxtend) (3.2.1)\n",
      "Requirement already satisfied: scikit-learn>=0.20.3 in /opt/conda/lib/python3.7/site-packages (from mlxtend) (0.22.2.post1)\n",
      "Requirement already satisfied: pandas>=0.24.2 in /opt/conda/lib/python3.7/site-packages (from mlxtend) (1.0.3)\n",
      "Requirement already satisfied: cycler>=0.10 in /opt/conda/lib/python3.7/site-packages (from matplotlib>=3.0.0->mlxtend) (0.10.0)\n",
      "Requirement already satisfied: kiwisolver>=1.0.1 in /opt/conda/lib/python3.7/site-packages (from matplotlib>=3.0.0->mlxtend) (1.2.0)\n",
      "Requirement already satisfied: python-dateutil>=2.1 in /opt/conda/lib/python3.7/site-packages (from matplotlib>=3.0.0->mlxtend) (2.8.1)\n",
      "Requirement already satisfied: pyparsing!=2.0.4,!=2.1.2,!=2.1.6,>=2.0.1 in /opt/conda/lib/python3.7/site-packages (from matplotlib>=3.0.0->mlxtend) (2.4.7)\n",
      "Requirement already satisfied: pytz>=2017.2 in /opt/conda/lib/python3.7/site-packages (from pandas>=0.24.2->mlxtend) (2020.1)\n",
      "Requirement already satisfied: six in /opt/conda/lib/python3.7/site-packages (from cycler>=0.10->matplotlib>=3.0.0->mlxtend) (1.14.0)\n",
      "Installing collected packages: mlxtend\n",
      "Successfully installed mlxtend-0.17.2\n",
      "Note: you may need to restart the kernel to use updated packages.\n"
     ]
    }
   ],
   "source": [
    "pip install mlxtend"
   ]
  },
  {
   "cell_type": "code",
   "execution_count": null,
   "metadata": {},
   "outputs": [],
   "source": []
  }
 ],
 "metadata": {
  "environment": {
   "name": "tf2-gpu.2-1.m46",
   "type": "gcloud",
   "uri": "gcr.io/deeplearning-platform-release/tf2-gpu.2-1:m46"
  },
  "kernelspec": {
   "display_name": "Python 3",
   "language": "python",
   "name": "python3"
  },
  "language_info": {
   "codemirror_mode": {
    "name": "ipython",
    "version": 3
   },
   "file_extension": ".py",
   "mimetype": "text/x-python",
   "name": "python",
   "nbconvert_exporter": "python",
   "pygments_lexer": "ipython3",
   "version": "3.7.6"
  }
 },
 "nbformat": 4,
 "nbformat_minor": 4
}
