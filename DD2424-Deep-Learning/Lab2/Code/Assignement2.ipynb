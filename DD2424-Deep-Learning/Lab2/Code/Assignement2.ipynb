{
 "cells": [
  {
   "cell_type": "markdown",
   "metadata": {},
   "source": [
    "## Imports"
   ]
  },
  {
   "cell_type": "code",
   "execution_count": 1,
   "metadata": {},
   "outputs": [],
   "source": [
    "import numpy as np\n",
    "import pandas as pd\n",
    "import matplotlib.pyplot as plt\n",
    "from functions import *\n",
    "from sklearn.preprocessing import OneHotEncoder\n",
    "from tqdm.notebook import tqdm\n",
    "from IPython.display import clear_output\n",
    "%matplotlib inline"
   ]
  },
  {
   "cell_type": "markdown",
   "metadata": {},
   "source": [
    "## Load Data"
   ]
  },
  {
   "cell_type": "markdown",
   "metadata": {},
   "source": [
    "#### Training"
   ]
  },
  {
   "cell_type": "code",
   "execution_count": 2,
   "metadata": {},
   "outputs": [
    {
     "name": "stdout",
     "output_type": "stream",
     "text": [
      "(10, 10000)\n"
     ]
    }
   ],
   "source": [
    "X_train,Y_train,filenames_train = LoadBatch('data_batch_1')\n",
    "Y_train_hot = one_hot(10,Y_train)\n",
    "print(Y_train_hot.shape)\n",
    "\n",
    "if False:\n",
    "    w=25\n",
    "    h=4\n",
    "    X_visualize = X_train.reshape(10000, 3, 32, 32).transpose(0,2,3,1).astype(\"uint8\")\n",
    "    visualize_multiple_images(X_visualize,h,w,True)"
   ]
  },
  {
   "cell_type": "markdown",
   "metadata": {},
   "source": [
    "#### Test"
   ]
  },
  {
   "cell_type": "code",
   "execution_count": 3,
   "metadata": {},
   "outputs": [
    {
     "data": {
      "text/plain": [
       "(10, 10000)"
      ]
     },
     "execution_count": 3,
     "metadata": {},
     "output_type": "execute_result"
    }
   ],
   "source": [
    "X_test,Y_test,filenames_test = LoadBatch('test_batch')\n",
    "Y_test_hot = one_hot(10,Y_test)\n",
    "Y_test_hot.shape"
   ]
  },
  {
   "cell_type": "markdown",
   "metadata": {},
   "source": [
    "#### Validation"
   ]
  },
  {
   "cell_type": "code",
   "execution_count": 4,
   "metadata": {},
   "outputs": [
    {
     "data": {
      "text/plain": [
       "(10, 10000)"
      ]
     },
     "execution_count": 4,
     "metadata": {},
     "output_type": "execute_result"
    }
   ],
   "source": [
    "X_valid,Y_valid,filenames_valid = LoadBatch('data_batch_2')\n",
    "Y_valid_hot = one_hot(10,Y_valid)\n",
    "Y_valid_hot.shape"
   ]
  },
  {
   "cell_type": "markdown",
   "metadata": {},
   "source": [
    "## Preprocess"
   ]
  },
  {
   "cell_type": "code",
   "execution_count": 5,
   "metadata": {},
   "outputs": [
    {
     "name": "stdout",
     "output_type": "stream",
     "text": [
      "(3072, 10000)\n"
     ]
    }
   ],
   "source": [
    "X_train=preprocess(X_train)\n",
    "X_test=preprocess(X_test)\n",
    "X_valid=preprocess(X_valid)\n",
    "print(X_test.shape)"
   ]
  },
  {
   "cell_type": "markdown",
   "metadata": {},
   "source": [
    "## Layers"
   ]
  },
  {
   "cell_type": "code",
   "execution_count": 6,
   "metadata": {},
   "outputs": [],
   "source": [
    "class Layer:\n",
    "    \n",
    "    #A building block. Each layer is capable of performing two things:\n",
    "    #- Process input to get output:           output = layer.forward(input)\n",
    "    #- Propagate gradients through itself:    grad_input = layer.backward(input, grad_output)\n",
    "    #Some layers also have learnable parameters which they update during layer.backward.\n",
    "    \n",
    "    def __init__(self):\n",
    "        # Here we can initialize layer parameters (if any) and auxiliary stuff.\n",
    "        # A dummy layer does nothing\n",
    "        pass\n",
    "    \n",
    "    def forward(self, input):\n",
    "        # Takes input data of shape [batch, input_units], returns output data [batch, output_units]\n",
    "        # A dummy layer just returns whatever it gets as input.\n",
    "        return input\n",
    "\n",
    "    def backward(self, input, grad_output):\n",
    "        # Performs a backpropagation step through the layer, with respect to the given input.\n",
    "        # To compute loss gradients w.r.t input, we need to apply chain rule (backprop):\n",
    "        # d loss / d x  = (d loss / d layer) * (d layer / d x)\n",
    "        num_units = input.shape[1]\n",
    "        d_layer_d_input = np.eye(num_units)\n",
    "        return np.dot(grad_output, d_layer_d_input) # chain rule"
   ]
  },
  {
   "cell_type": "code",
   "execution_count": 7,
   "metadata": {},
   "outputs": [],
   "source": [
    "class ReLU(Layer):\n",
    "    def __init__(self):\n",
    "        # ReLU layer simply applies elementwise rectified linear unit to all inputs\n",
    "        self.fc = False # whether it is fully connected layer\n",
    "    \n",
    "    def forward(self, input):\n",
    "        # Apply elementwise ReLU to [batch, input_units] matrix\n",
    "        relu_forward = np.maximum(0,input)\n",
    "        return relu_forward\n",
    "    \n",
    "    def backward(self, input, grad_output):\n",
    "        # Compute gradient of loss w.r.t. ReLU input\n",
    "        relu_grad = input > 0\n",
    "#         return np.dot(grad_output,relu_grad)\n",
    "        return grad_output*relu_grad"
   ]
  },
  {
   "cell_type": "code",
   "execution_count": 8,
   "metadata": {},
   "outputs": [],
   "source": [
    "class Dense(Layer):\n",
    "    \"\"\" Standard fully connected layer.\"\"\"\n",
    "    def __init__(self, input_units, output_units ):\n",
    "        self.fc = True # whether it is fully connected layer\n",
    "        self.ins = input_units\n",
    "        self.outs = output_units\n",
    "        self.weights = np.random.normal(loc=0.0, \n",
    "                                        scale = np.sqrt(1/input_units), # Suggested  init\n",
    "                                        size = (output_units, input_units))\n",
    "#                        np.random.normal(loc=0.0, \n",
    "#                                         scale = np.sqrt(2/(input_units+output_units)), # He init\n",
    "#                                         size = (output_units, input_units))\n",
    "        self.biases = np.zeros(output_units)\n",
    "        \n",
    "\n",
    "    \n",
    "    def forward(self,input):\n",
    "        # Perform an affine transformation:\n",
    "        # f(x) = <W*x> + b\n",
    "        # input shape: [input_units, batch]\n",
    "        # output shape: [output units, batch]\n",
    "        \n",
    "        if input.ndim == 1:\n",
    "            input = input.reshape(input.shape[0],1)\n",
    "            \n",
    "        return np.dot(self.weights, input) + self.biases[:,np.newaxis]\n",
    "    \n",
    "    def backward(self,input,grad_output,eta=0.001, regularization = 0.1):\n",
    "        # compute d f / d x = d f / d dense * d dense / d x\n",
    "        # where d dense/ d x = weights transposed\n",
    "        if input.ndim == 1:\n",
    "            input = input.reshape(input.shape[0],1)\n",
    "        grad_input = np.dot(self.weights.T, grad_output)\n",
    "        \n",
    "        # compute gradient w.r.t. weights and biases\n",
    "        grad_weights = np.dot(grad_output, input.T)/(input.shape[1]) \n",
    "        if regularization:\n",
    "            grad_weights += 2 * regularization * self.weights\n",
    "            \n",
    "        grad_biases = grad_output.mean(axis=1)\n",
    "        \n",
    "        assert grad_weights.shape == self.weights.shape and grad_biases.shape == self.biases.shape\n",
    "        \n",
    "        # Here we perform a stochastic gradient descent step. \n",
    "        self.weights = self.weights - eta * grad_weights\n",
    "        self.biases = self.biases - eta * grad_biases\n",
    "            \n",
    "        return grad_input "
   ]
  },
  {
   "cell_type": "code",
   "execution_count": 9,
   "metadata": {},
   "outputs": [],
   "source": [
    "class Network():\n",
    "    def __init__(self,layers = []):\n",
    "        self.layers = layers[:]\n",
    "        self.startup()\n",
    "        \n",
    "    def add(self,layer):\n",
    "        self.layers.append(layer)\n",
    "    \n",
    "    def startup(self,n_epochs=40, n_batch=100, eta=0.001, reg=0.01, eta_min=None, eta_max=None, n_s=None):\n",
    "        # Main param\n",
    "        self.n_batch = n_batch\n",
    "        self.eta = eta # learning rate\n",
    "        self.reg = reg # regularization of weights\n",
    "        \n",
    "        ## Cyclic learning rate parameters\n",
    "        self.eta_min = eta_min\n",
    "        self.eta_max = eta_max\n",
    "        self.n_s = n_s\n",
    "        self.t = 0 # nr of updates\n",
    "        \n",
    "        ## Logging\n",
    "        self.train_acc_log = []\n",
    "        self.val_acc_log = []\n",
    "        self.train_loss_log = []\n",
    "        self.val_loss_log = []\n",
    "        self.train_cost_log = []\n",
    "        self.val_cost_log = []\n",
    "        self.eta_log = []\n",
    "        self.t = 0\n",
    "        \n",
    "    def re_init(self):\n",
    "        for l in self.layers:\n",
    "            if l.fc:\n",
    "                l.__init__(l.ins,l.outs)\n",
    "                \n",
    "    #############################################    \n",
    "    ######## Cross Entropy loss function ########    \n",
    "    def CrossEntropyLoss(self, softmax_input, P, Y_batch):\n",
    "        lossgrad = -(Y_batch - P)\n",
    "        tmp = np.exp(softmax_input)\n",
    "        return lossgrad\n",
    "    \n",
    "    def SoftMax(self, input):\n",
    "        tmp = np.exp(input)\n",
    "        softmax = tmp / np.sum(tmp,0)[np.newaxis,:]\n",
    "        return softmax\n",
    "       \n",
    "    def loss(self,X_batch, Y_batch):              \n",
    "        activations = self.forward(X_batch)\n",
    "        softmax_input = activations[-1]\n",
    "        tmp = np.exp(softmax_input)\n",
    "        loss_matrix = - softmax_input + np.log(np.sum(tmp,0))[np.newaxis,:]\n",
    "        return (loss_matrix * Y_batch).sum()/Y_batch.shape[1]\n",
    "    #############################################\n",
    "    \n",
    "    \n",
    "    #############################################    \n",
    "    ########           Logging           ########                  \n",
    "    def logging(self, X_train, Y_train_hot, X_valid, Y_valid_hot, visualize, epoch):\n",
    "        ll = 0\n",
    "        for l in self.layers:\n",
    "            if l.fc:\n",
    "                ll +=self.reg*np.sum(l.weights[:]**2)\n",
    "        self.train_acc_log.append(self.accuracy(X_train, Y_train_hot))\n",
    "        self.val_acc_log.append(self.accuracy(X_valid, Y_valid_hot))\n",
    "        self.train_loss_log.append(self.loss(X_train,Y_train_hot))\n",
    "        self.val_loss_log.append(self.loss(X_valid,Y_valid_hot))\n",
    "        self.train_cost_log.append(self.train_loss_log[-1] + ll)\n",
    "        self.val_cost_log.append(self.val_loss_log[-1] + ll)\n",
    "        if visualize:\n",
    "            clear_output(wait=\"True\")\n",
    "        print(\"Epoch\",epoch)\n",
    "        print(\"Train accuracy:\", self.train_acc_log[-1],\"Train loss:\",\"%.4f\" % self.train_loss_log[-1] )\n",
    "        print(\"Val accuracy:\", self.val_acc_log[-1], \"Val loss:\", \"%.4f\" % self.val_loss_log[-1],\"\\n\")\n",
    "        if visualize:\n",
    "            self.plot_training()\n",
    "                \n",
    "    def plot_training(self):\n",
    "        fig, axs = plt.subplots(1,3, figsize=(15, 4))\n",
    "        fig.subplots_adjust(hspace = .5, wspace=0.3)\n",
    "        axs = axs.ravel()\n",
    "\n",
    "\n",
    "        axs[0].plot(self.train_cost_log,label='train cost')\n",
    "        axs[0].plot(self.val_cost_log,label='val cost')\n",
    "        axs[0].legend(loc='best')\n",
    "        axs[0].grid()\n",
    "        \n",
    "        axs[1].plot(self.train_loss_log,label='train loss')\n",
    "        axs[1].plot(self.val_loss_log,label='val loss')\n",
    "        axs[1].legend(loc='best')\n",
    "        axs[1].grid()\n",
    "\n",
    "        axs[2].plot(self.train_acc_log,label='train accuracy')\n",
    "        axs[2].plot(self.val_acc_log,label='val accuracy')\n",
    "        axs[2].legend(loc='best')\n",
    "        axs[2].grid()\n",
    "        plt.show()\n",
    "    #############################################\n",
    "    \n",
    "    def forward(self, input):\n",
    "        tmp = input\n",
    "        activations = []\n",
    "        activations.append(tmp)\n",
    "        for l in self.layers:\n",
    "            tmp = l.forward(activations[-1])\n",
    "            activations.append(tmp)\n",
    "        return activations\n",
    "    \n",
    "    def backward(self, X_batch, Y_batch):\n",
    "        if Y_batch.ndim == 1:\n",
    "            Y_batch = Y_batch.reshape(Y_batch.shape[0],1)\n",
    "        activations = self.forward(X_batch)\n",
    "        lossgrad = self.CrossEntropyLoss(activations[-1], self.SoftMax(activations[-1]), Y_batch)\n",
    "        \n",
    "        for i, l in reversed(list(enumerate(self.layers))):\n",
    "            if l.fc:\n",
    "                lossgrad = l.backward(activations[i], lossgrad, self.eta, self.reg)\n",
    "            else:\n",
    "                lossgrad = l.backward(activations[i],lossgrad)\n",
    "    \n",
    "    def predict(self, input):\n",
    "        p = self.SoftMax(self.forward(input)[-1])\n",
    "        return p.argmax(0)\n",
    "    \n",
    "    def accuracy(self, X, Y):\n",
    "        Y_pred = self.predict(X)\n",
    "        if Y.ndim == 2:\n",
    "            Y = Y.argmax(0)\n",
    "        return np.mean(Y_pred == Y)\n",
    "    \n",
    "    def cyclical_learning_rate(self):\n",
    "        if self.eta_min and self.eta_max and self.n_s:\n",
    "            self.eta = self.eta_min + np.copysign(np.mod(self.t,self.n_s),self.n_s-self.t)*(self.eta_max- self.eta_min)/self.n_s + (self.n_s<=self.t)*(self.eta_max-self.eta_min)\n",
    "            self.eta_log.append(self.eta)\n",
    "\n",
    "    def minibatch_SGD(self, X_train, Y_train_hot):\n",
    "        n = X_train.shape[1]\n",
    "        for j in range(0,n, self.n_batch):\n",
    "                    self.cyclical_learning_rate() # updates the learning rate\n",
    "                    X_batch = X_train[:, j:j+self.n_batch];\n",
    "                    Y_batch = Y_train_hot[:, j:j+self.n_batch];\n",
    "                    loss = self.backward(X_batch, Y_batch)\n",
    "                    self.t = np.mod(self.t+1, 2*self.n_s) # increase update nr\n",
    "\n",
    "                    \n",
    "    def train(self, X_train, Y_train_hot, X_valid, Y_valid_hot, \n",
    "              shufle=True, n_epochs=40, n_batch=100, eta=0.001, reg=0.01, visualize=False, \n",
    "              eta_min=None, eta_max=None, n_s=None):\n",
    "        \n",
    "        # Delete old logging\n",
    "        self.startup(n_epochs, n_batch, eta, reg, eta_min, eta_max, n_s)\n",
    "        \n",
    "        # Reiinit weighs\n",
    "        self.re_init()\n",
    "        \n",
    "        for epoch in tqdm(range(n_epochs)):\n",
    "            if shufle:\n",
    "                X_train, Y_train_hot = shuffle(X_train,Y_train_hot) # shuffle\n",
    "\n",
    "            ## Logging\n",
    "            self.logging(X_train, Y_train_hot, X_valid, Y_valid_hot, visualize,epoch)         \n",
    "            \n",
    "            ## Minibatch SGD\n",
    "            self.minibatch_SGD(X_train, Y_train_hot)\n",
    "    "
   ]
  },
  {
   "cell_type": "code",
   "execution_count": 10,
   "metadata": {},
   "outputs": [],
   "source": [
    "def shuffle(X,Y):\n",
    "    indexes = np.random.permutation(X.shape[1])\n",
    "    X = np.take(X,indexes,axis=1)\n",
    "    Y = np.take(Y,indexes,axis=1)\n",
    "    return X,Y\n",
    "\n",
    "def create_val_set(X,Y,n_val=5000):\n",
    "    X, Y = shuffle(X,Y)\n",
    "    X_val = X[:,0:n_val]\n",
    "    Y_val = Y[:,0:n_val]\n",
    "    X = X[:,n_val:]\n",
    "    Y = Y[:,n_val:]\n",
    "    return X, Y, X_val, Y_val"
   ]
  },
  {
   "cell_type": "markdown",
   "metadata": {},
   "source": [
    "### Define the Neural Network"
   ]
  },
  {
   "cell_type": "code",
   "execution_count": 11,
   "metadata": {},
   "outputs": [],
   "source": [
    "n_in = X_train.shape[0]\n",
    "n_out = 10\n",
    "n_hidden = 50\n",
    "\n",
    "nn = Network()\n",
    "nn.add(Dense(n_in, n_hidden))\n",
    "nn.add(ReLU())\n",
    "nn.add(Dense(n_hidden, n_out))\n"
   ]
  },
  {
   "cell_type": "markdown",
   "metadata": {},
   "source": [
    "### Training"
   ]
  },
  {
   "cell_type": "code",
   "execution_count": 12,
   "metadata": {
    "scrolled": false
   },
   "outputs": [
    {
     "name": "stdout",
     "output_type": "stream",
     "text": [
      "Epoch 49\n",
      "Train accuracy: 0.6857 Train loss: 0.9872\n",
      "Val accuracy: 0.4594 Val loss: 1.5602 \n",
      "\n"
     ]
    },
    {
     "data": {
      "image/png": "[encoded data removed]",
      "text/plain": [
       "<matplotlib.figure.Figure at 0x7f2ab192ce10>"
      ]
     },
     "metadata": {
      "needs_background": "light"
     },
     "output_type": "display_data"
    },
    {
     "name": "stdout",
     "output_type": "stream",
     "text": [
      "\n"
     ]
    }
   ],
   "source": [
    "nn.train(X_train, Y_train_hot, X_valid, Y_valid_hot, \n",
    "         shufle = True, n_epochs=50, eta=0.001, reg = 0.01, visualize=True, \n",
    "         eta_min=1e-5, eta_max=1e-1,n_s=500)"
   ]
  },
  {
   "cell_type": "code",
   "execution_count": 13,
   "metadata": {
    "scrolled": true
   },
   "outputs": [
    {
     "name": "stdout",
     "output_type": "stream",
     "text": [
      "Train set accuracy: 0.7056\n",
      "Validation set accuracy: 0.4657\n",
      "Test set accuracy: 0.4703\n"
     ]
    }
   ],
   "source": [
    "print(\"Train set accuracy:\",nn.accuracy(X_train,Y_train_hot))\n",
    "print(\"Validation set accuracy:\",nn.accuracy(X_valid,Y_valid_hot))\n",
    "print(\"Test set accuracy:\",nn.accuracy(X_test,Y_test_hot))"
   ]
  },
  {
   "cell_type": "markdown",
   "metadata": {},
   "source": [
    "### Coarse-to-fine random search to set lambda"
   ]
  },
  {
   "cell_type": "markdown",
   "metadata": {},
   "source": [
    "#### The data"
   ]
  },
  {
   "cell_type": "code",
   "execution_count": 8,
   "metadata": {},
   "outputs": [
    {
     "name": "stdout",
     "output_type": "stream",
     "text": [
      "(3072, 45000) (10, 45000) (3072, 5000) (10, 5000)\n"
     ]
    }
   ],
   "source": [
    "X,Y=load_all_and_preproc()\n",
    "Y = one_hot(10,Y)\n",
    "X, Y, X_val, Y_val = create_val_set(X,Y)\n",
    "\n",
    "print(X.shape,Y.shape, X_val.shape, Y_val.shape)"
   ]
  },
  {
   "cell_type": "markdown",
   "metadata": {},
   "source": [
    "#### The Neural Network"
   ]
  },
  {
   "cell_type": "code",
   "execution_count": 10,
   "metadata": {},
   "outputs": [
    {
     "data": {
      "text/plain": [
       "[<NN.Dense at 0x7f27980de1d0>,\n",
       " <NN.ReLU at 0x7f27a27fccf8>,\n",
       " <NN.Dense at 0x7f27605e2a90>]"
      ]
     },
     "execution_count": 10,
     "metadata": {},
     "output_type": "execute_result"
    }
   ],
   "source": [
    "from NN import *\n",
    "n_in, n = X.shape\n",
    "n_out = 10\n",
    "n_hidden = 50\n",
    "\n",
    "nn = Network()\n",
    "nn.add(Dense(n_in, n_hidden))\n",
    "nn.add(ReLU())\n",
    "nn.add(Dense(n_hidden, n_out))"
   ]
  },
  {
   "cell_type": "markdown",
   "metadata": {},
   "source": [
    "#### Searching"
   ]
  },
  {
   "cell_type": "code",
   "execution_count": 27,
   "metadata": {
    "scrolled": true
   },
   "outputs": [
    {
     "data": {
      "application/vnd.jupyter.widget-view+json": {
       "model_id": "814dc0d2b7454961811c263e03325165",
       "version_major": 2,
       "version_minor": 0
      },
      "text/plain": [
       "HBox(children=(FloatProgress(value=0.0, max=20.0), HTML(value='')))"
      ]
     },
     "metadata": {},
     "output_type": "display_data"
    },
    {
     "name": "stdout",
     "output_type": "stream",
     "text": [
      "Epoch 0\n",
      "Train accuracy: 0.12502222222222223 Train loss: 2.5188\n",
      "Val accuracy: 0.1276 Val loss: 2.5132 \n",
      "\n",
      "Epoch 1\n",
      "Train accuracy: 0.4140888888888889 Train loss: 1.6990\n",
      "Val accuracy: 0.3926 Val loss: 1.7632 \n",
      "\n",
      "Epoch 2\n",
      "Train accuracy: 0.4574888888888889 Train loss: 1.5388\n",
      "Val accuracy: 0.4232 Val loss: 1.6331 \n",
      "\n",
      "Epoch 3\n",
      "Train accuracy: 0.5113777777777778 Train loss: 1.3836\n",
      "Val accuracy: 0.4706 Val loss: 1.5146 \n",
      "\n",
      "Epoch 0\n",
      "Train accuracy: 0.12653333333333333 Train loss: 2.4641\n",
      "Val accuracy: 0.1256 Val loss: 2.4664 \n",
      "\n",
      "Epoch 1\n",
      "Train accuracy: 0.38982222222222224 Train loss: 1.7765\n",
      "Val accuracy: 0.3736 Val loss: 1.8354 \n",
      "\n",
      "Epoch 2\n",
      "Train accuracy: 0.4434222222222222 Train loss: 1.5596\n",
      "Val accuracy: 0.4092 Val loss: 1.6537 \n",
      "\n",
      "Epoch 3\n",
      "Train accuracy: 0.5199555555555555 Train loss: 1.3651\n",
      "Val accuracy: 0.4772 Val loss: 1.5061 \n",
      "\n",
      "Epoch 0\n",
      "Train accuracy: 0.10848888888888888 Train loss: 2.4976\n",
      "Val accuracy: 0.1104 Val loss: 2.5040 \n",
      "\n",
      "Epoch 1\n",
      "Train accuracy: 0.42846666666666666 Train loss: 1.6314\n",
      "Val accuracy: 0.4032 Val loss: 1.6978 \n",
      "\n",
      "Epoch 2\n",
      "Train accuracy: 0.45411111111111113 Train loss: 1.5375\n",
      "Val accuracy: 0.425 Val loss: 1.6319 \n",
      "\n",
      "Epoch 3\n",
      "Train accuracy: 0.5078666666666667 Train loss: 1.3917\n",
      "Val accuracy: 0.4518 Val loss: 1.5415 \n",
      "\n",
      "Epoch 0\n",
      "Train accuracy: 0.1019111111111111 Train loss: 2.5473\n",
      "Val accuracy: 0.097 Val loss: 2.5595 \n",
      "\n",
      "Epoch 1\n",
      "Train accuracy: 0.4236888888888889 Train loss: 1.6334\n",
      "Val accuracy: 0.405 Val loss: 1.7078 \n",
      "\n",
      "Epoch 2\n",
      "Train accuracy: 0.451 Train loss: 1.5993\n",
      "Val accuracy: 0.4266 Val loss: 1.7028 \n",
      "\n",
      "Epoch 3\n",
      "Train accuracy: 0.5054888888888889 Train loss: 1.4103\n",
      "Val accuracy: 0.4574 Val loss: 1.5659 \n",
      "\n",
      "Epoch 0\n",
      "Train accuracy: 0.09444444444444444 Train loss: 2.5210\n",
      "Val accuracy: 0.0958 Val loss: 2.5419 \n",
      "\n",
      "Epoch 1\n",
      "Train accuracy: 0.4166222222222222 Train loss: 1.6555\n",
      "Val accuracy: 0.3992 Val loss: 1.7213 \n",
      "\n",
      "Epoch 2\n",
      "Train accuracy: 0.4679111111111111 Train loss: 1.5210\n",
      "Val accuracy: 0.4288 Val loss: 1.6208 \n",
      "\n",
      "Epoch 3\n",
      "Train accuracy: 0.5207555555555555 Train loss: 1.3788\n",
      "Val accuracy: 0.4666 Val loss: 1.5199 \n",
      "\n",
      "Epoch 0\n",
      "Train accuracy: 0.07748888888888888 Train loss: 2.4885\n",
      "Val accuracy: 0.085 Val loss: 2.4798 \n",
      "\n",
      "Epoch 1\n",
      "Train accuracy: 0.43504444444444446 Train loss: 1.6114\n",
      "Val accuracy: 0.4104 Val loss: 1.6747 \n",
      "\n",
      "Epoch 2\n",
      "Train accuracy: 0.4646666666666667 Train loss: 1.5145\n",
      "Val accuracy: 0.4286 Val loss: 1.6177 \n",
      "\n",
      "Epoch 3\n",
      "Train accuracy: 0.5104 Train loss: 1.3916\n",
      "Val accuracy: 0.4544 Val loss: 1.5392 \n",
      "\n",
      "Epoch 0\n",
      "Train accuracy: 0.08217777777777778 Train loss: 2.5532\n",
      "Val accuracy: 0.0772 Val loss: 2.5614 \n",
      "\n",
      "Epoch 1\n",
      "Train accuracy: 0.4162888888888889 Train loss: 1.6664\n",
      "Val accuracy: 0.3928 Val loss: 1.7082 \n",
      "\n",
      "Epoch 2\n",
      "Train accuracy: 0.45782222222222224 Train loss: 1.5407\n",
      "Val accuracy: 0.433 Val loss: 1.6290 \n",
      "\n",
      "Epoch 3\n",
      "Train accuracy: 0.5025555555555555 Train loss: 1.4050\n",
      "Val accuracy: 0.4566 Val loss: 1.5545 \n",
      "\n",
      "Epoch 0\n",
      "Train accuracy: 0.10355555555555555 Train loss: 2.6017\n",
      "Val accuracy: 0.106 Val loss: 2.5948 \n",
      "\n",
      "Epoch 1\n",
      "Train accuracy: 0.4159777777777778 Train loss: 1.6672\n",
      "Val accuracy: 0.3976 Val loss: 1.7238 \n",
      "\n",
      "Epoch 2\n",
      "Train accuracy: 0.4502888888888889 Train loss: 1.5434\n",
      "Val accuracy: 0.408 Val loss: 1.6575 \n",
      "\n",
      "Epoch 3\n",
      "Train accuracy: 0.5145555555555555 Train loss: 1.3802\n",
      "Val accuracy: 0.4532 Val loss: 1.5276 \n",
      "\n",
      "Epoch 0\n",
      "Train accuracy: 0.09 Train loss: 2.5000\n",
      "Val accuracy: 0.0962 Val loss: 2.4852 \n",
      "\n",
      "Epoch 1\n",
      "Train accuracy: 0.4394 Train loss: 1.6043\n",
      "Val accuracy: 0.4138 Val loss: 1.6828 \n",
      "\n",
      "Epoch 2\n",
      "Train accuracy: 0.44606666666666667 Train loss: 1.5456\n",
      "Val accuracy: 0.4246 Val loss: 1.6453 \n",
      "\n",
      "Epoch 3\n",
      "Train accuracy: 0.5122666666666666 Train loss: 1.3838\n",
      "Val accuracy: 0.4626 Val loss: 1.5228 \n",
      "\n",
      "Epoch 0\n",
      "Train accuracy: 0.09264444444444445 Train loss: 2.5194\n",
      "Val accuracy: 0.0888 Val loss: 2.5346 \n",
      "\n",
      "Epoch 1\n",
      "Train accuracy: 0.427 Train loss: 1.6499\n",
      "Val accuracy: 0.3952 Val loss: 1.7312 \n",
      "\n",
      "Epoch 2\n",
      "Train accuracy: 0.4644888888888889 Train loss: 1.5214\n",
      "Val accuracy: 0.4284 Val loss: 1.6338 \n",
      "\n",
      "Epoch 3\n",
      "Train accuracy: 0.5129777777777778 Train loss: 1.3836\n",
      "Val accuracy: 0.4582 Val loss: 1.5401 \n",
      "\n",
      "Epoch 0\n",
      "Train accuracy: 0.1275111111111111 Train loss: 2.4551\n",
      "Val accuracy: 0.1262 Val loss: 2.4443 \n",
      "\n",
      "Epoch 1\n",
      "Train accuracy: 0.4328 Train loss: 1.6236\n",
      "Val accuracy: 0.4022 Val loss: 1.6971 \n",
      "\n",
      "Epoch 2\n",
      "Train accuracy: 0.4617777777777778 Train loss: 1.5165\n",
      "Val accuracy: 0.4284 Val loss: 1.6140 \n",
      "\n",
      "Epoch 3\n",
      "Train accuracy: 0.5020888888888889 Train loss: 1.4058\n",
      "Val accuracy: 0.46 Val loss: 1.5540 \n",
      "\n",
      "Epoch 0\n",
      "Train accuracy: 0.09084444444444445 Train loss: 2.4581\n",
      "Val accuracy: 0.095 Val loss: 2.4587 \n",
      "\n",
      "Epoch 1\n",
      "Train accuracy: 0.42388888888888887 Train loss: 1.6469\n",
      "Val accuracy: 0.3966 Val loss: 1.7105 \n",
      "\n",
      "Epoch 2\n",
      "Train accuracy: 0.45468888888888886 Train loss: 1.5487\n",
      "Val accuracy: 0.4196 Val loss: 1.6353 \n",
      "\n",
      "Epoch 3\n",
      "Train accuracy: 0.5158 Train loss: 1.3778\n",
      "Val accuracy: 0.4682 Val loss: 1.5114 \n",
      "\n",
      "Epoch 0\n",
      "Train accuracy: 0.10344444444444445 Train loss: 2.5194\n",
      "Val accuracy: 0.0996 Val loss: 2.5344 \n",
      "\n",
      "Epoch 1\n",
      "Train accuracy: 0.427 Train loss: 1.6296\n",
      "Val accuracy: 0.4054 Val loss: 1.6841 \n",
      "\n",
      "Epoch 2\n",
      "Train accuracy: 0.45995555555555556 Train loss: 1.5285\n",
      "Val accuracy: 0.4314 Val loss: 1.6052 \n",
      "\n",
      "Epoch 3\n",
      "Train accuracy: 0.49722222222222223 Train loss: 1.4206\n",
      "Val accuracy: 0.447 Val loss: 1.5675 \n",
      "\n",
      "Epoch 0\n",
      "Train accuracy: 0.09135555555555555 Train loss: 2.5937\n",
      "Val accuracy: 0.0938 Val loss: 2.6185 \n",
      "\n",
      "Epoch 1\n",
      "Train accuracy: 0.4208 Train loss: 1.6618\n",
      "Val accuracy: 0.3984 Val loss: 1.7232 \n",
      "\n",
      "Epoch 2\n",
      "Train accuracy: 0.45693333333333336 Train loss: 1.5359\n",
      "Val accuracy: 0.4184 Val loss: 1.6460 \n",
      "\n",
      "Epoch 3\n",
      "Train accuracy: 0.5195777777777778 Train loss: 1.3690\n",
      "Val accuracy: 0.4662 Val loss: 1.5106 \n",
      "\n",
      "Epoch 0\n",
      "Train accuracy: 0.09044444444444444 Train loss: 2.5139\n",
      "Val accuracy: 0.0856 Val loss: 2.5283 \n",
      "\n",
      "Epoch 1\n",
      "Train accuracy: 0.42493333333333333 Train loss: 1.6342\n",
      "Val accuracy: 0.4116 Val loss: 1.6896 \n",
      "\n",
      "Epoch 2\n",
      "Train accuracy: 0.46024444444444446 Train loss: 1.5244\n",
      "Val accuracy: 0.4276 Val loss: 1.6207 \n",
      "\n",
      "Epoch 3\n",
      "Train accuracy: 0.5247333333333334 Train loss: 1.3581\n",
      "Val accuracy: 0.4682 Val loss: 1.4963 \n",
      "\n",
      "Epoch 0\n",
      "Train accuracy: 0.12248888888888888 Train loss: 2.5588\n",
      "Val accuracy: 0.1228 Val loss: 2.5427 \n",
      "\n",
      "Epoch 1\n",
      "Train accuracy: 0.41604444444444444 Train loss: 1.6995\n",
      "Val accuracy: 0.3916 Val loss: 1.7825 \n",
      "\n",
      "Epoch 2\n",
      "Train accuracy: 0.45355555555555555 Train loss: 1.5472\n",
      "Val accuracy: 0.4172 Val loss: 1.6586 \n",
      "\n",
      "Epoch 3\n",
      "Train accuracy: 0.5187333333333334 Train loss: 1.3640\n",
      "Val accuracy: 0.4708 Val loss: 1.5016 \n",
      "\n",
      "Epoch 0\n",
      "Train accuracy: 0.0872 Train loss: 2.5805\n",
      "Val accuracy: 0.0792 Val loss: 2.5991 \n",
      "\n",
      "Epoch 1\n",
      "Train accuracy: 0.43164444444444444 Train loss: 1.6241\n",
      "Val accuracy: 0.4078 Val loss: 1.7035 \n",
      "\n",
      "Epoch 2\n",
      "Train accuracy: 0.44108888888888886 Train loss: 1.6164\n",
      "Val accuracy: 0.4128 Val loss: 1.7413 \n",
      "\n",
      "Epoch 3\n",
      "Train accuracy: 0.5168222222222222 Train loss: 1.3819\n",
      "Val accuracy: 0.4608 Val loss: 1.5153 \n",
      "\n",
      "Epoch 0\n",
      "Train accuracy: 0.09091111111111111 Train loss: 2.4833\n",
      "Val accuracy: 0.0946 Val loss: 2.4770 \n",
      "\n",
      "Epoch 1\n",
      "Train accuracy: 0.4253777777777778 Train loss: 1.6458\n",
      "Val accuracy: 0.4078 Val loss: 1.7012 \n",
      "\n",
      "Epoch 2\n",
      "Train accuracy: 0.46542222222222224 Train loss: 1.5099\n",
      "Val accuracy: 0.4356 Val loss: 1.5950 \n",
      "\n",
      "Epoch 3\n",
      "Train accuracy: 0.5131111111111111 Train loss: 1.3904\n",
      "Val accuracy: 0.4708 Val loss: 1.5107 \n",
      "\n",
      "Epoch 0\n",
      "Train accuracy: 0.08051111111111112 Train loss: 2.5253\n",
      "Val accuracy: 0.0756 Val loss: 2.5240 \n",
      "\n",
      "Epoch 1\n",
      "Train accuracy: 0.42835555555555554 Train loss: 1.6349\n",
      "Val accuracy: 0.4006 Val loss: 1.7055 \n",
      "\n",
      "Epoch 2\n",
      "Train accuracy: 0.4547111111111111 Train loss: 1.5367\n",
      "Val accuracy: 0.4244 Val loss: 1.6469 \n",
      "\n",
      "Epoch 3\n",
      "Train accuracy: 0.5144888888888889 Train loss: 1.3785\n",
      "Val accuracy: 0.4552 Val loss: 1.5436 \n",
      "\n",
      "Epoch 0\n",
      "Train accuracy: 0.08964444444444444 Train loss: 2.4963\n",
      "Val accuracy: 0.093 Val loss: 2.4939 \n",
      "\n",
      "Epoch 1\n",
      "Train accuracy: 0.4333111111111111 Train loss: 1.6190\n",
      "Val accuracy: 0.4092 Val loss: 1.6751 \n",
      "\n",
      "Epoch 2\n",
      "Train accuracy: 0.4275333333333333 Train loss: 1.6138\n",
      "Val accuracy: 0.3942 Val loss: 1.7058 \n",
      "\n",
      "Epoch 3\n",
      "Train accuracy: 0.5156 Train loss: 1.3779\n",
      "Val accuracy: 0.4684 Val loss: 1.5196 \n",
      "\n",
      "\n"
     ]
    }
   ],
   "source": [
    "n_s = 2*np.floor(n / 100)\n",
    "l_min = -5\n",
    "l_max = -3\n",
    "\n",
    "data = []\n",
    "for i in tqdm(range(20)):\n",
    "    l = l_min + (l_max - l_min)*np.random.rand();\n",
    "    reg = 10**l;\n",
    "    nn.train(X, Y, X_val, Y_val, \n",
    "             shufle=True, n_epochs=4, reg=reg, visualize=False, \n",
    "             eta_min=1e-5, eta_max=1e-1,n_s=n_s)\n",
    "\n",
    "    value = (reg,nn.accuracy(X_val,Y_val),nn.accuracy(X,Y))\n",
    "    data.append(value)\n",
    "\n",
    "column_name = ['lamba','val_acc','train_acc']\n",
    "df = pd.DataFrame(data,columns=column_name)\n",
    "df.to_csv(\"file\"+str(l_min)+str(l_max) +\".csv\")"
   ]
  },
  {
   "cell_type": "markdown",
   "metadata": {},
   "source": [
    "#### Visualization"
   ]
  },
  {
   "cell_type": "code",
   "execution_count": 15,
   "metadata": {},
   "outputs": [
    {
     "name": "stdout",
     "output_type": "stream",
     "text": [
      "    Unnamed: 0     lamba  val_acc  train_acc\n",
      "7            7  0.000035   0.4814   0.555467\n",
      "9            9  0.000019   0.4848   0.553244\n",
      "13          13  0.000361   0.4876   0.557622\n",
      "18          18  0.000055   0.4890   0.556022\n",
      "8            8  0.000218   0.4894   0.556089\n",
      "11          11  0.000371   0.4898   0.553400\n",
      "2            2  0.000025   0.4900   0.558067\n",
      "1            1  0.000091   0.4902   0.552978\n",
      "6            6  0.000104   0.4906   0.553978\n",
      "14          14  0.000499   0.4912   0.552556\n",
      "0            0  0.000066   0.4932   0.555044\n",
      "3            3  0.000948   0.4934   0.556644\n",
      "12          12  0.000048   0.4936   0.553689\n",
      "16          16  0.000893   0.4938   0.552267\n",
      "5            5  0.000368   0.4938   0.555489\n",
      "15          15  0.000085   0.4952   0.556644\n",
      "10          10  0.000014   0.4962   0.556644\n",
      "19          19  0.000075   0.4972   0.558511\n",
      "4            4  0.000025   0.4978   0.556067\n",
      "17          17  0.000470   0.4988   0.554933\n"
     ]
    },
    {
     "data": {
      "text/plain": [
       "[]"
      ]
     },
     "execution_count": 15,
     "metadata": {},
     "output_type": "execute_result"
    },
    {
     "data": {
      "image/png": "[encoded data removed]",
      "text/plain": [
       "<matplotlib.figure.Figure at 0x7f5c37d5d6a0>"
      ]
     },
     "metadata": {
      "needs_background": "light"
     },
     "output_type": "display_data"
    }
   ],
   "source": [
    "df =pd.read_csv('file-5-3.csv')\n",
    "df2=df.sort_values('lamba')\n",
    "print(df2.sort_values('val_acc'))\n",
    "\n",
    "df2.plot(x='lamba', y='val_acc')\n",
    "plt.plot()"
   ]
  },
  {
   "cell_type": "markdown",
   "metadata": {},
   "source": [
    "### Proper Training"
   ]
  },
  {
   "cell_type": "code",
   "execution_count": null,
   "metadata": {},
   "outputs": [
    {
     "name": "stdout",
     "output_type": "stream",
     "text": [
      "Epoch 22\n",
      "Train accuracy: 0.4844 Train loss: 1.5478\n",
      "Val accuracy: 0.411 Val loss: 1.8934 \n",
      "\n"
     ]
    },
    {
     "data": {
      "image/png": "[encoded data removed]",
      "text/plain": [
       "<matplotlib.figure.Figure at 0x7f1a69b85f60>"
      ]
     },
     "metadata": {
      "needs_background": "light"
     },
     "output_type": "display_data"
    }
   ],
   "source": [
    "X,Y=load_all_and_preproc()\n",
    "Y = one_hot(10,Y)\n",
    "X, Y, X_val, Y_val = create_val_set(X,Y)\n",
    "\n",
    "print(X.shape,Y.shape, X_val.shape, Y_val.shape)\n",
    "\n",
    "n_in, n = X.shape\n",
    "n_out = 10\n",
    "n_hidden = 50\n",
    "\n",
    "nn = Network()\n",
    "nn.add(Dense(n_in, n_hidden))\n",
    "nn.add(ReLU())\n",
    "nn.add(Dense(n_hidden, n_out))\n",
    "\n",
    "\n",
    "nn.train(X, Y, X_val, Y_val, \n",
    "         shufle = True, n_epochs=32, eta=0.001, reg = 0.000470, visualize=True, \n",
    "         eta_min=1e-5, eta_max=1e-1,n_s=900)"
   ]
  },
  {
   "cell_type": "code",
   "execution_count": null,
   "metadata": {},
   "outputs": [],
   "source": [
    "print(\"Train set accuracy:\",nn.accuracy(X,Y))\n",
    "print(\"Validation set accuracy:\",nn.accuracy(X_val,Y_val))\n",
    "print(\"Test set accuracy:\",nn.accuracy(X_test,Y_test_hot))"
   ]
  },
  {
   "cell_type": "code",
   "execution_count": null,
   "metadata": {},
   "outputs": [],
   "source": []
  },
  {
   "cell_type": "markdown",
   "metadata": {},
   "source": [
    "#### Visualize the cyclical learning rate"
   ]
  },
  {
   "cell_type": "code",
   "execution_count": 369,
   "metadata": {},
   "outputs": [
    {
     "name": "stdout",
     "output_type": "stream",
     "text": [
      "1e-05\n"
     ]
    },
    {
     "data": {
      "image/png": "[encoded data removed]",
      "text/plain": [
       "<matplotlib.figure.Figure at 0x7f1fc30f3cf8>"
      ]
     },
     "metadata": {
      "needs_background": "light"
     },
     "output_type": "display_data"
    }
   ],
   "source": [
    "eta_min=1e-5\n",
    "eta_max=1e-2\n",
    "lamda=0.01\n",
    "n_s=50\n",
    "def funcc(t):\n",
    "    t = np.mod(t,2*n_s)\n",
    "    eta = eta_min + np.copysign(np.mod(t,n_s),n_s-t)*(eta_max- eta_min)/n_s + (n_s<=t)*(eta_max-eta_min)\n",
    "    return eta\n",
    "\n",
    "aa = np.arange(200)\n",
    "xx = []\n",
    "for t in aa:\n",
    "    xx.append(funcc(t))\n",
    "#xx = funcc(aa)\n",
    "plt.plot(aa,xx)\n",
    "print(xx[0])"
   ]
  }
 ],
 "metadata": {
  "kernelspec": {
   "display_name": "Python 3",
   "language": "python",
   "name": "python3"
  },
  "language_info": {
   "codemirror_mode": {
    "name": "ipython",
    "version": 3
   },
   "file_extension": ".py",
   "mimetype": "text/x-python",
   "name": "python",
   "nbconvert_exporter": "python",
   "pygments_lexer": "ipython3",
   "version": "3.6.9"
  }
 },
 "nbformat": 4,
 "nbformat_minor": 4
}
